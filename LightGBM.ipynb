{
 "cells": [
  {
   "cell_type": "code",
   "execution_count": 62,
   "metadata": {
    "_cell_guid": "b1076dfc-b9ad-4769-8c92-a6c4dae69d19",
    "_uuid": "8f2839f25d086af736a60e9eeb907d3b93b6e0e5"
   },
   "outputs": [],
   "source": [
    "import numpy as np \n",
    "import pandas as pd \n",
    "import gc\n",
    "import time\n",
    "import datetime\n",
    "import matplotlib.pyplot as plt\n",
    "import seaborn as sns\n",
    "\n",
    "%matplotlib inline\n",
    "\n",
    "import os"
   ]
  },
  {
   "cell_type": "code",
   "execution_count": 63,
   "metadata": {
    "_cell_guid": "79c7e3d0-c299-4dcb-8224-4455121ee9b0",
    "_uuid": "d629ff2d2480ee46fbb7e2d37f6b5fab8052498a",
    "collapsed": true
   },
   "outputs": [],
   "source": [
    "#import first 10,000,000 rows of train and all test data\n",
    "\n",
    "dtypes = {\n",
    "        'ip'            : 'uint32',\n",
    "        'app'           : 'uint16',\n",
    "        'device'        : 'uint16',\n",
    "        'os'            : 'uint16',\n",
    "        'channel'       : 'uint16',\n",
    "        'is_attributed' : 'uint8',\n",
    "        }\n",
    "\n",
    "train = pd.read_csv('train.csv', dtype=dtypes, nrows=40000000)\n",
    "test1 = pd.read_csv('train.csv',  skiprows=range(1, 40000000), nrows=10000000, dtype=dtypes)\n",
    "test = pd.read_csv('test.csv',dtype=dtypes)\n"
   ]
  },
  {
   "cell_type": "code",
   "execution_count": 64,
   "metadata": {
    "_uuid": "15ffaa63fd857c3ae8f96a86d4dada9151a04272"
   },
   "outputs": [
    {
     "name": "stdout",
     "output_type": "stream",
     "text": [
      "<class 'pandas.core.frame.DataFrame'>\n",
      "RangeIndex: 40000000 entries, 0 to 39999999\n",
      "Data columns (total 8 columns):\n",
      "ip                 uint32\n",
      "app                uint16\n",
      "device             uint16\n",
      "os                 uint16\n",
      "channel            uint16\n",
      "click_time         object\n",
      "attributed_time    object\n",
      "is_attributed      uint8\n",
      "dtypes: object(2), uint16(4), uint32(1), uint8(1)\n",
      "memory usage: 1.1+ GB\n"
     ]
    }
   ],
   "source": [
    "train.info()"
   ]
  },
  {
   "cell_type": "code",
   "execution_count": 65,
   "metadata": {},
   "outputs": [
    {
     "name": "stdout",
     "output_type": "stream",
     "text": [
      "<class 'pandas.core.frame.DataFrame'>\n",
      "RangeIndex: 10000000 entries, 0 to 9999999\n",
      "Data columns (total 8 columns):\n",
      "ip                 uint32\n",
      "app                uint16\n",
      "device             uint16\n",
      "os                 uint16\n",
      "channel            uint16\n",
      "click_time         object\n",
      "attributed_time    object\n",
      "is_attributed      uint8\n",
      "dtypes: object(2), uint16(4), uint32(1), uint8(1)\n",
      "memory usage: 276.6+ MB\n"
     ]
    }
   ],
   "source": [
    "test1.info()"
   ]
  },
  {
   "cell_type": "code",
   "execution_count": 66,
   "metadata": {
    "_uuid": "47ceccb1406454704ce369e27bfbf231d96bc907"
   },
   "outputs": [
    {
     "data": {
      "text/html": [
       "<div>\n",
       "<style scoped>\n",
       "    .dataframe tbody tr th:only-of-type {\n",
       "        vertical-align: middle;\n",
       "    }\n",
       "\n",
       "    .dataframe tbody tr th {\n",
       "        vertical-align: top;\n",
       "    }\n",
       "\n",
       "    .dataframe thead th {\n",
       "        text-align: right;\n",
       "    }\n",
       "</style>\n",
       "<table border=\"1\" class=\"dataframe\">\n",
       "  <thead>\n",
       "    <tr style=\"text-align: right;\">\n",
       "      <th></th>\n",
       "      <th>ip</th>\n",
       "      <th>app</th>\n",
       "      <th>device</th>\n",
       "      <th>os</th>\n",
       "      <th>channel</th>\n",
       "      <th>click_time</th>\n",
       "      <th>attributed_time</th>\n",
       "      <th>is_attributed</th>\n",
       "    </tr>\n",
       "  </thead>\n",
       "  <tbody>\n",
       "    <tr>\n",
       "      <th>0</th>\n",
       "      <td>83230</td>\n",
       "      <td>3</td>\n",
       "      <td>1</td>\n",
       "      <td>13</td>\n",
       "      <td>379</td>\n",
       "      <td>2017-11-06 14:32:21</td>\n",
       "      <td>NaN</td>\n",
       "      <td>0</td>\n",
       "    </tr>\n",
       "    <tr>\n",
       "      <th>1</th>\n",
       "      <td>17357</td>\n",
       "      <td>3</td>\n",
       "      <td>1</td>\n",
       "      <td>19</td>\n",
       "      <td>379</td>\n",
       "      <td>2017-11-06 14:33:34</td>\n",
       "      <td>NaN</td>\n",
       "      <td>0</td>\n",
       "    </tr>\n",
       "    <tr>\n",
       "      <th>2</th>\n",
       "      <td>35810</td>\n",
       "      <td>3</td>\n",
       "      <td>1</td>\n",
       "      <td>13</td>\n",
       "      <td>379</td>\n",
       "      <td>2017-11-06 14:34:12</td>\n",
       "      <td>NaN</td>\n",
       "      <td>0</td>\n",
       "    </tr>\n",
       "    <tr>\n",
       "      <th>3</th>\n",
       "      <td>45745</td>\n",
       "      <td>14</td>\n",
       "      <td>1</td>\n",
       "      <td>13</td>\n",
       "      <td>478</td>\n",
       "      <td>2017-11-06 14:34:52</td>\n",
       "      <td>NaN</td>\n",
       "      <td>0</td>\n",
       "    </tr>\n",
       "    <tr>\n",
       "      <th>4</th>\n",
       "      <td>161007</td>\n",
       "      <td>3</td>\n",
       "      <td>1</td>\n",
       "      <td>13</td>\n",
       "      <td>379</td>\n",
       "      <td>2017-11-06 14:35:08</td>\n",
       "      <td>NaN</td>\n",
       "      <td>0</td>\n",
       "    </tr>\n",
       "  </tbody>\n",
       "</table>\n",
       "</div>"
      ],
      "text/plain": [
       "       ip  app  device  os  channel           click_time attributed_time  \\\n",
       "0   83230    3       1  13      379  2017-11-06 14:32:21             NaN   \n",
       "1   17357    3       1  19      379  2017-11-06 14:33:34             NaN   \n",
       "2   35810    3       1  13      379  2017-11-06 14:34:12             NaN   \n",
       "3   45745   14       1  13      478  2017-11-06 14:34:52             NaN   \n",
       "4  161007    3       1  13      379  2017-11-06 14:35:08             NaN   \n",
       "\n",
       "   is_attributed  \n",
       "0              0  \n",
       "1              0  \n",
       "2              0  \n",
       "3              0  \n",
       "4              0  "
      ]
     },
     "execution_count": 66,
     "metadata": {},
     "output_type": "execute_result"
    }
   ],
   "source": [
    "train.head()"
   ]
  },
  {
   "cell_type": "code",
   "execution_count": null,
   "metadata": {},
   "outputs": [],
   "source": [
    "#train[train['is_attributed']==1].groupby('ip').count()#.nlargest(5)#sort_values(['ip'], ascending=False) "
   ]
  },
  {
   "cell_type": "code",
   "execution_count": 68,
   "metadata": {
    "_uuid": "9e71e51a12dca9e57353857036d2f31045bfda7e"
   },
   "outputs": [
    {
     "data": {
      "text/html": [
       "<div>\n",
       "<style scoped>\n",
       "    .dataframe tbody tr th:only-of-type {\n",
       "        vertical-align: middle;\n",
       "    }\n",
       "\n",
       "    .dataframe tbody tr th {\n",
       "        vertical-align: top;\n",
       "    }\n",
       "\n",
       "    .dataframe thead th {\n",
       "        text-align: right;\n",
       "    }\n",
       "</style>\n",
       "<table border=\"1\" class=\"dataframe\">\n",
       "  <thead>\n",
       "    <tr style=\"text-align: right;\">\n",
       "      <th></th>\n",
       "      <th>ip</th>\n",
       "      <th>app</th>\n",
       "      <th>device</th>\n",
       "      <th>os</th>\n",
       "      <th>channel</th>\n",
       "      <th>click_time</th>\n",
       "      <th>attributed_time</th>\n",
       "      <th>is_attributed</th>\n",
       "    </tr>\n",
       "  </thead>\n",
       "  <tbody>\n",
       "    <tr>\n",
       "      <th>0</th>\n",
       "      <td>147296</td>\n",
       "      <td>13</td>\n",
       "      <td>1</td>\n",
       "      <td>18</td>\n",
       "      <td>477</td>\n",
       "      <td>2017-11-07 09:39:40</td>\n",
       "      <td>NaN</td>\n",
       "      <td>0</td>\n",
       "    </tr>\n",
       "    <tr>\n",
       "      <th>1</th>\n",
       "      <td>48281</td>\n",
       "      <td>8</td>\n",
       "      <td>1</td>\n",
       "      <td>19</td>\n",
       "      <td>145</td>\n",
       "      <td>2017-11-07 09:39:40</td>\n",
       "      <td>NaN</td>\n",
       "      <td>0</td>\n",
       "    </tr>\n",
       "    <tr>\n",
       "      <th>2</th>\n",
       "      <td>5348</td>\n",
       "      <td>27</td>\n",
       "      <td>1</td>\n",
       "      <td>47</td>\n",
       "      <td>153</td>\n",
       "      <td>2017-11-07 09:39:40</td>\n",
       "      <td>NaN</td>\n",
       "      <td>0</td>\n",
       "    </tr>\n",
       "    <tr>\n",
       "      <th>3</th>\n",
       "      <td>118229</td>\n",
       "      <td>26</td>\n",
       "      <td>1</td>\n",
       "      <td>18</td>\n",
       "      <td>121</td>\n",
       "      <td>2017-11-07 09:39:40</td>\n",
       "      <td>NaN</td>\n",
       "      <td>0</td>\n",
       "    </tr>\n",
       "    <tr>\n",
       "      <th>4</th>\n",
       "      <td>67836</td>\n",
       "      <td>2</td>\n",
       "      <td>1</td>\n",
       "      <td>6</td>\n",
       "      <td>219</td>\n",
       "      <td>2017-11-07 09:39:40</td>\n",
       "      <td>NaN</td>\n",
       "      <td>0</td>\n",
       "    </tr>\n",
       "  </tbody>\n",
       "</table>\n",
       "</div>"
      ],
      "text/plain": [
       "       ip  app  device  os  channel           click_time attributed_time  \\\n",
       "0  147296   13       1  18      477  2017-11-07 09:39:40             NaN   \n",
       "1   48281    8       1  19      145  2017-11-07 09:39:40             NaN   \n",
       "2    5348   27       1  47      153  2017-11-07 09:39:40             NaN   \n",
       "3  118229   26       1  18      121  2017-11-07 09:39:40             NaN   \n",
       "4   67836    2       1   6      219  2017-11-07 09:39:40             NaN   \n",
       "\n",
       "   is_attributed  \n",
       "0              0  \n",
       "1              0  \n",
       "2              0  \n",
       "3              0  \n",
       "4              0  "
      ]
     },
     "execution_count": 68,
     "metadata": {},
     "output_type": "execute_result"
    }
   ],
   "source": [
    "test1.head()"
   ]
  },
  {
   "cell_type": "code",
   "execution_count": 69,
   "metadata": {},
   "outputs": [
    {
     "data": {
      "text/html": [
       "<div>\n",
       "<style scoped>\n",
       "    .dataframe tbody tr th:only-of-type {\n",
       "        vertical-align: middle;\n",
       "    }\n",
       "\n",
       "    .dataframe tbody tr th {\n",
       "        vertical-align: top;\n",
       "    }\n",
       "\n",
       "    .dataframe thead th {\n",
       "        text-align: right;\n",
       "    }\n",
       "</style>\n",
       "<table border=\"1\" class=\"dataframe\">\n",
       "  <thead>\n",
       "    <tr style=\"text-align: right;\">\n",
       "      <th></th>\n",
       "      <th>click_id</th>\n",
       "      <th>ip</th>\n",
       "      <th>app</th>\n",
       "      <th>device</th>\n",
       "      <th>os</th>\n",
       "      <th>channel</th>\n",
       "      <th>click_time</th>\n",
       "    </tr>\n",
       "  </thead>\n",
       "  <tbody>\n",
       "    <tr>\n",
       "      <th>0</th>\n",
       "      <td>0</td>\n",
       "      <td>5744</td>\n",
       "      <td>9</td>\n",
       "      <td>1</td>\n",
       "      <td>3</td>\n",
       "      <td>107</td>\n",
       "      <td>2017-11-10 04:00:00</td>\n",
       "    </tr>\n",
       "    <tr>\n",
       "      <th>1</th>\n",
       "      <td>1</td>\n",
       "      <td>119901</td>\n",
       "      <td>9</td>\n",
       "      <td>1</td>\n",
       "      <td>3</td>\n",
       "      <td>466</td>\n",
       "      <td>2017-11-10 04:00:00</td>\n",
       "    </tr>\n",
       "    <tr>\n",
       "      <th>2</th>\n",
       "      <td>2</td>\n",
       "      <td>72287</td>\n",
       "      <td>21</td>\n",
       "      <td>1</td>\n",
       "      <td>19</td>\n",
       "      <td>128</td>\n",
       "      <td>2017-11-10 04:00:00</td>\n",
       "    </tr>\n",
       "    <tr>\n",
       "      <th>3</th>\n",
       "      <td>3</td>\n",
       "      <td>78477</td>\n",
       "      <td>15</td>\n",
       "      <td>1</td>\n",
       "      <td>13</td>\n",
       "      <td>111</td>\n",
       "      <td>2017-11-10 04:00:00</td>\n",
       "    </tr>\n",
       "    <tr>\n",
       "      <th>4</th>\n",
       "      <td>4</td>\n",
       "      <td>123080</td>\n",
       "      <td>12</td>\n",
       "      <td>1</td>\n",
       "      <td>13</td>\n",
       "      <td>328</td>\n",
       "      <td>2017-11-10 04:00:00</td>\n",
       "    </tr>\n",
       "  </tbody>\n",
       "</table>\n",
       "</div>"
      ],
      "text/plain": [
       "   click_id      ip  app  device  os  channel           click_time\n",
       "0         0    5744    9       1   3      107  2017-11-10 04:00:00\n",
       "1         1  119901    9       1   3      466  2017-11-10 04:00:00\n",
       "2         2   72287   21       1  19      128  2017-11-10 04:00:00\n",
       "3         3   78477   15       1  13      111  2017-11-10 04:00:00\n",
       "4         4  123080   12       1  13      328  2017-11-10 04:00:00"
      ]
     },
     "execution_count": 69,
     "metadata": {},
     "output_type": "execute_result"
    }
   ],
   "source": [
    "test.head()"
   ]
  },
  {
   "cell_type": "code",
   "execution_count": 70,
   "metadata": {
    "_uuid": "80ed59d84d3ff388dc20d05fa28ad275f971b55f"
   },
   "outputs": [],
   "source": [
    "#set click_time and attributed_time as timeseries\n",
    "train['click_time'] = pd.to_datetime(train['click_time'])\n",
    "train['attributed_time'] = pd.to_datetime(train['attributed_time'])\n",
    "\n",
    "test1['click_time'] = pd.to_datetime(test1['click_time'])\n",
    "test1['attributed_time'] = pd.to_datetime(test1['attributed_time'])\n",
    "\n",
    "test['click_time'] = pd.to_datetime(test['click_time'])\n",
    "\n",
    "#train['attributed_hour'] = train['attributed_time'].dt.hour\n",
    "#train['attributed_hour'][train['attributed_hour'].isnull()] = 25\n",
    "#train['attributed_hour'] = train['attributed_hour'].astype('category')\n",
    "\n",
    "#test1['attributed_hour'] = test1['attributed_time'].dt.hour\n",
    "#test1['attributed_hour'][test1['attributed_hour'].isnull()] = 25\n",
    "#test1['attributed_hour'] = test1['attributed_hour'].astype('category')\n",
    "\n",
    "train['click_hour'] = train['click_time'].dt.hour.astype('category')\n",
    "\n",
    "test1['click_hour'] = test1['click_time'].dt.hour.astype('category')\n",
    "\n",
    "test['click_hour'] = test['click_time'].dt.hour.astype('category')"
   ]
  },
  {
   "cell_type": "code",
   "execution_count": 71,
   "metadata": {
    "_uuid": "2b19c2a4672ec0a1ec3ba642a4d4a749ad755f26",
    "collapsed": true
   },
   "outputs": [],
   "source": [
    "# time take until download\n",
    "#train['time_taken'] = train['attributed_time'] - train['click_time']\n",
    "\n",
    "#test1['time_taken'] = test1['attributed_time'] - test1['click_time']\n",
    "\n",
    "test['click_id'] = test['click_id'].astype('int')\n",
    "\n",
    "labels = ['ip', 'app', 'device', 'os', 'channel']\n",
    "for k in labels:\n",
    "    train[k] = train[k].astype('category')\n",
    "    test[k] = test[k].astype('category')\n",
    "    test1[k] = test1[k].astype('category')"
   ]
  },
  {
   "cell_type": "code",
   "execution_count": 72,
   "metadata": {
    "_uuid": "38e5b10914f4acfac6d408de896e686e1e04de33"
   },
   "outputs": [
    {
     "data": {
      "text/html": [
       "<div>\n",
       "<style scoped>\n",
       "    .dataframe tbody tr th:only-of-type {\n",
       "        vertical-align: middle;\n",
       "    }\n",
       "\n",
       "    .dataframe tbody tr th {\n",
       "        vertical-align: top;\n",
       "    }\n",
       "\n",
       "    .dataframe thead th {\n",
       "        text-align: right;\n",
       "    }\n",
       "</style>\n",
       "<table border=\"1\" class=\"dataframe\">\n",
       "  <thead>\n",
       "    <tr style=\"text-align: right;\">\n",
       "      <th></th>\n",
       "      <th>ip</th>\n",
       "      <th>app</th>\n",
       "      <th>device</th>\n",
       "      <th>os</th>\n",
       "      <th>channel</th>\n",
       "      <th>click_time</th>\n",
       "      <th>attributed_time</th>\n",
       "      <th>is_attributed</th>\n",
       "      <th>click_hour</th>\n",
       "    </tr>\n",
       "  </thead>\n",
       "  <tbody>\n",
       "    <tr>\n",
       "      <th>0</th>\n",
       "      <td>83230</td>\n",
       "      <td>3</td>\n",
       "      <td>1</td>\n",
       "      <td>13</td>\n",
       "      <td>379</td>\n",
       "      <td>2017-11-06 14:32:21</td>\n",
       "      <td>NaT</td>\n",
       "      <td>0</td>\n",
       "      <td>14</td>\n",
       "    </tr>\n",
       "    <tr>\n",
       "      <th>1</th>\n",
       "      <td>17357</td>\n",
       "      <td>3</td>\n",
       "      <td>1</td>\n",
       "      <td>19</td>\n",
       "      <td>379</td>\n",
       "      <td>2017-11-06 14:33:34</td>\n",
       "      <td>NaT</td>\n",
       "      <td>0</td>\n",
       "      <td>14</td>\n",
       "    </tr>\n",
       "    <tr>\n",
       "      <th>2</th>\n",
       "      <td>35810</td>\n",
       "      <td>3</td>\n",
       "      <td>1</td>\n",
       "      <td>13</td>\n",
       "      <td>379</td>\n",
       "      <td>2017-11-06 14:34:12</td>\n",
       "      <td>NaT</td>\n",
       "      <td>0</td>\n",
       "      <td>14</td>\n",
       "    </tr>\n",
       "    <tr>\n",
       "      <th>3</th>\n",
       "      <td>45745</td>\n",
       "      <td>14</td>\n",
       "      <td>1</td>\n",
       "      <td>13</td>\n",
       "      <td>478</td>\n",
       "      <td>2017-11-06 14:34:52</td>\n",
       "      <td>NaT</td>\n",
       "      <td>0</td>\n",
       "      <td>14</td>\n",
       "    </tr>\n",
       "    <tr>\n",
       "      <th>4</th>\n",
       "      <td>161007</td>\n",
       "      <td>3</td>\n",
       "      <td>1</td>\n",
       "      <td>13</td>\n",
       "      <td>379</td>\n",
       "      <td>2017-11-06 14:35:08</td>\n",
       "      <td>NaT</td>\n",
       "      <td>0</td>\n",
       "      <td>14</td>\n",
       "    </tr>\n",
       "  </tbody>\n",
       "</table>\n",
       "</div>"
      ],
      "text/plain": [
       "       ip app device  os channel          click_time attributed_time  \\\n",
       "0   83230   3      1  13     379 2017-11-06 14:32:21             NaT   \n",
       "1   17357   3      1  19     379 2017-11-06 14:33:34             NaT   \n",
       "2   35810   3      1  13     379 2017-11-06 14:34:12             NaT   \n",
       "3   45745  14      1  13     478 2017-11-06 14:34:52             NaT   \n",
       "4  161007   3      1  13     379 2017-11-06 14:35:08             NaT   \n",
       "\n",
       "   is_attributed click_hour  \n",
       "0              0         14  \n",
       "1              0         14  \n",
       "2              0         14  \n",
       "3              0         14  \n",
       "4              0         14  "
      ]
     },
     "execution_count": 72,
     "metadata": {},
     "output_type": "execute_result"
    }
   ],
   "source": [
    "train.head()"
   ]
  },
  {
   "cell_type": "code",
   "execution_count": 73,
   "metadata": {},
   "outputs": [
    {
     "data": {
      "text/html": [
       "<div>\n",
       "<style scoped>\n",
       "    .dataframe tbody tr th:only-of-type {\n",
       "        vertical-align: middle;\n",
       "    }\n",
       "\n",
       "    .dataframe tbody tr th {\n",
       "        vertical-align: top;\n",
       "    }\n",
       "\n",
       "    .dataframe thead th {\n",
       "        text-align: right;\n",
       "    }\n",
       "</style>\n",
       "<table border=\"1\" class=\"dataframe\">\n",
       "  <thead>\n",
       "    <tr style=\"text-align: right;\">\n",
       "      <th></th>\n",
       "      <th>ip</th>\n",
       "      <th>app</th>\n",
       "      <th>device</th>\n",
       "      <th>os</th>\n",
       "      <th>channel</th>\n",
       "      <th>click_time</th>\n",
       "      <th>attributed_time</th>\n",
       "      <th>is_attributed</th>\n",
       "      <th>click_hour</th>\n",
       "    </tr>\n",
       "  </thead>\n",
       "  <tbody>\n",
       "    <tr>\n",
       "      <th>0</th>\n",
       "      <td>147296</td>\n",
       "      <td>13</td>\n",
       "      <td>1</td>\n",
       "      <td>18</td>\n",
       "      <td>477</td>\n",
       "      <td>2017-11-07 09:39:40</td>\n",
       "      <td>NaT</td>\n",
       "      <td>0</td>\n",
       "      <td>9</td>\n",
       "    </tr>\n",
       "    <tr>\n",
       "      <th>1</th>\n",
       "      <td>48281</td>\n",
       "      <td>8</td>\n",
       "      <td>1</td>\n",
       "      <td>19</td>\n",
       "      <td>145</td>\n",
       "      <td>2017-11-07 09:39:40</td>\n",
       "      <td>NaT</td>\n",
       "      <td>0</td>\n",
       "      <td>9</td>\n",
       "    </tr>\n",
       "    <tr>\n",
       "      <th>2</th>\n",
       "      <td>5348</td>\n",
       "      <td>27</td>\n",
       "      <td>1</td>\n",
       "      <td>47</td>\n",
       "      <td>153</td>\n",
       "      <td>2017-11-07 09:39:40</td>\n",
       "      <td>NaT</td>\n",
       "      <td>0</td>\n",
       "      <td>9</td>\n",
       "    </tr>\n",
       "    <tr>\n",
       "      <th>3</th>\n",
       "      <td>118229</td>\n",
       "      <td>26</td>\n",
       "      <td>1</td>\n",
       "      <td>18</td>\n",
       "      <td>121</td>\n",
       "      <td>2017-11-07 09:39:40</td>\n",
       "      <td>NaT</td>\n",
       "      <td>0</td>\n",
       "      <td>9</td>\n",
       "    </tr>\n",
       "    <tr>\n",
       "      <th>4</th>\n",
       "      <td>67836</td>\n",
       "      <td>2</td>\n",
       "      <td>1</td>\n",
       "      <td>6</td>\n",
       "      <td>219</td>\n",
       "      <td>2017-11-07 09:39:40</td>\n",
       "      <td>NaT</td>\n",
       "      <td>0</td>\n",
       "      <td>9</td>\n",
       "    </tr>\n",
       "  </tbody>\n",
       "</table>\n",
       "</div>"
      ],
      "text/plain": [
       "       ip app device  os channel          click_time attributed_time  \\\n",
       "0  147296  13      1  18     477 2017-11-07 09:39:40             NaT   \n",
       "1   48281   8      1  19     145 2017-11-07 09:39:40             NaT   \n",
       "2    5348  27      1  47     153 2017-11-07 09:39:40             NaT   \n",
       "3  118229  26      1  18     121 2017-11-07 09:39:40             NaT   \n",
       "4   67836   2      1   6     219 2017-11-07 09:39:40             NaT   \n",
       "\n",
       "   is_attributed click_hour  \n",
       "0              0          9  \n",
       "1              0          9  \n",
       "2              0          9  \n",
       "3              0          9  \n",
       "4              0          9  "
      ]
     },
     "execution_count": 73,
     "metadata": {},
     "output_type": "execute_result"
    }
   ],
   "source": [
    "test1.head()"
   ]
  },
  {
   "cell_type": "code",
   "execution_count": 74,
   "metadata": {
    "_uuid": "3dc0e245912b4d01cfad15f93566ca10b579ecf2"
   },
   "outputs": [
    {
     "data": {
      "text/html": [
       "<div>\n",
       "<style scoped>\n",
       "    .dataframe tbody tr th:only-of-type {\n",
       "        vertical-align: middle;\n",
       "    }\n",
       "\n",
       "    .dataframe tbody tr th {\n",
       "        vertical-align: top;\n",
       "    }\n",
       "\n",
       "    .dataframe thead th {\n",
       "        text-align: right;\n",
       "    }\n",
       "</style>\n",
       "<table border=\"1\" class=\"dataframe\">\n",
       "  <thead>\n",
       "    <tr style=\"text-align: right;\">\n",
       "      <th></th>\n",
       "      <th>click_id</th>\n",
       "      <th>ip</th>\n",
       "      <th>app</th>\n",
       "      <th>device</th>\n",
       "      <th>os</th>\n",
       "      <th>channel</th>\n",
       "      <th>click_time</th>\n",
       "      <th>click_hour</th>\n",
       "    </tr>\n",
       "  </thead>\n",
       "  <tbody>\n",
       "    <tr>\n",
       "      <th>0</th>\n",
       "      <td>0</td>\n",
       "      <td>5744</td>\n",
       "      <td>9</td>\n",
       "      <td>1</td>\n",
       "      <td>3</td>\n",
       "      <td>107</td>\n",
       "      <td>2017-11-10 04:00:00</td>\n",
       "      <td>4</td>\n",
       "    </tr>\n",
       "    <tr>\n",
       "      <th>1</th>\n",
       "      <td>1</td>\n",
       "      <td>119901</td>\n",
       "      <td>9</td>\n",
       "      <td>1</td>\n",
       "      <td>3</td>\n",
       "      <td>466</td>\n",
       "      <td>2017-11-10 04:00:00</td>\n",
       "      <td>4</td>\n",
       "    </tr>\n",
       "    <tr>\n",
       "      <th>2</th>\n",
       "      <td>2</td>\n",
       "      <td>72287</td>\n",
       "      <td>21</td>\n",
       "      <td>1</td>\n",
       "      <td>19</td>\n",
       "      <td>128</td>\n",
       "      <td>2017-11-10 04:00:00</td>\n",
       "      <td>4</td>\n",
       "    </tr>\n",
       "    <tr>\n",
       "      <th>3</th>\n",
       "      <td>3</td>\n",
       "      <td>78477</td>\n",
       "      <td>15</td>\n",
       "      <td>1</td>\n",
       "      <td>13</td>\n",
       "      <td>111</td>\n",
       "      <td>2017-11-10 04:00:00</td>\n",
       "      <td>4</td>\n",
       "    </tr>\n",
       "    <tr>\n",
       "      <th>4</th>\n",
       "      <td>4</td>\n",
       "      <td>123080</td>\n",
       "      <td>12</td>\n",
       "      <td>1</td>\n",
       "      <td>13</td>\n",
       "      <td>328</td>\n",
       "      <td>2017-11-10 04:00:00</td>\n",
       "      <td>4</td>\n",
       "    </tr>\n",
       "  </tbody>\n",
       "</table>\n",
       "</div>"
      ],
      "text/plain": [
       "   click_id      ip app device  os channel          click_time click_hour\n",
       "0         0    5744   9      1   3     107 2017-11-10 04:00:00          4\n",
       "1         1  119901   9      1   3     466 2017-11-10 04:00:00          4\n",
       "2         2   72287  21      1  19     128 2017-11-10 04:00:00          4\n",
       "3         3   78477  15      1  13     111 2017-11-10 04:00:00          4\n",
       "4         4  123080  12      1  13     328 2017-11-10 04:00:00          4"
      ]
     },
     "execution_count": 74,
     "metadata": {},
     "output_type": "execute_result"
    }
   ],
   "source": [
    "test.head()"
   ]
  },
  {
   "cell_type": "code",
   "execution_count": 75,
   "metadata": {
    "_uuid": "56520b0eb8f7bde945ccdd12134bf1918ddeb99b"
   },
   "outputs": [
    {
     "data": {
      "text/plain": [
       "4807126"
      ]
     },
     "execution_count": 75,
     "metadata": {},
     "output_type": "execute_result"
    }
   ],
   "source": [
    "gc.collect()"
   ]
  },
  {
   "cell_type": "code",
   "execution_count": 76,
   "metadata": {
    "_uuid": "100a5ded6ff10651ecea0331957846fd8d516b53",
    "collapsed": true
   },
   "outputs": [],
   "source": [
    "X_train = train.drop(columns=['is_attributed', 'attributed_time', 'click_time'])\n",
    "                              \n",
    "                              #'time_taken', 'attributed_hour'])\n",
    "\n",
    "X_test1 = test1.drop(columns=['is_attributed', 'attributed_time', 'click_time'])\n",
    "\n",
    "y_train = train['is_attributed']\n",
    "\n",
    "y_test1 = test1['is_attributed']\n",
    "\n",
    "X_test = test.drop(columns=['click_id', 'click_time'])"
   ]
  },
  {
   "cell_type": "code",
   "execution_count": 77,
   "metadata": {
    "_uuid": "03fbe4c75b34c0039803bfe657c8b26036b9c2a3"
   },
   "outputs": [
    {
     "data": {
      "text/plain": [
       "126"
      ]
     },
     "execution_count": 77,
     "metadata": {},
     "output_type": "execute_result"
    }
   ],
   "source": [
    "gc.collect()"
   ]
  },
  {
   "cell_type": "code",
   "execution_count": 78,
   "metadata": {},
   "outputs": [
    {
     "name": "stdout",
     "output_type": "stream",
     "text": [
      "<class 'pandas.core.frame.DataFrame'>\n",
      "RangeIndex: 40000000 entries, 0 to 39999999\n",
      "Data columns (total 6 columns):\n",
      "ip            category\n",
      "app           category\n",
      "device        category\n",
      "os            category\n",
      "channel       category\n",
      "click_hour    category\n",
      "dtypes: category(6)\n",
      "memory usage: 499.3 MB\n"
     ]
    }
   ],
   "source": [
    "X_train.info()"
   ]
  },
  {
   "cell_type": "code",
   "execution_count": 79,
   "metadata": {},
   "outputs": [
    {
     "data": {
      "text/plain": [
       "(40000000,)"
      ]
     },
     "execution_count": 79,
     "metadata": {},
     "output_type": "execute_result"
    }
   ],
   "source": [
    "y_train.shape"
   ]
  },
  {
   "cell_type": "code",
   "execution_count": 80,
   "metadata": {},
   "outputs": [
    {
     "name": "stdout",
     "output_type": "stream",
     "text": [
      "<class 'pandas.core.frame.DataFrame'>\n",
      "RangeIndex: 10000000 entries, 0 to 9999999\n",
      "Data columns (total 6 columns):\n",
      "ip            category\n",
      "app           category\n",
      "device        category\n",
      "os            category\n",
      "channel       category\n",
      "click_hour    category\n",
      "dtypes: category(6)\n",
      "memory usage: 127.1 MB\n"
     ]
    }
   ],
   "source": [
    "X_test1.info()"
   ]
  },
  {
   "cell_type": "code",
   "execution_count": 81,
   "metadata": {},
   "outputs": [
    {
     "data": {
      "text/plain": [
       "(10000000,)"
      ]
     },
     "execution_count": 81,
     "metadata": {},
     "output_type": "execute_result"
    }
   ],
   "source": [
    "y_test1.shape"
   ]
  },
  {
   "cell_type": "code",
   "execution_count": 82,
   "metadata": {},
   "outputs": [
    {
     "name": "stdout",
     "output_type": "stream",
     "text": [
      "<class 'pandas.core.frame.DataFrame'>\n",
      "RangeIndex: 18790469 entries, 0 to 18790468\n",
      "Data columns (total 6 columns):\n",
      "ip            category\n",
      "app           category\n",
      "device        category\n",
      "os            category\n",
      "channel       category\n",
      "click_hour    category\n",
      "dtypes: category(6)\n",
      "memory usage: 236.3 MB\n"
     ]
    }
   ],
   "source": [
    "X_test.info()"
   ]
  },
  {
   "cell_type": "code",
   "execution_count": 83,
   "metadata": {},
   "outputs": [
    {
     "data": {
      "text/html": [
       "<div>\n",
       "<style scoped>\n",
       "    .dataframe tbody tr th:only-of-type {\n",
       "        vertical-align: middle;\n",
       "    }\n",
       "\n",
       "    .dataframe tbody tr th {\n",
       "        vertical-align: top;\n",
       "    }\n",
       "\n",
       "    .dataframe thead th {\n",
       "        text-align: right;\n",
       "    }\n",
       "</style>\n",
       "<table border=\"1\" class=\"dataframe\">\n",
       "  <thead>\n",
       "    <tr style=\"text-align: right;\">\n",
       "      <th></th>\n",
       "      <th>ip</th>\n",
       "      <th>app</th>\n",
       "      <th>device</th>\n",
       "      <th>os</th>\n",
       "      <th>channel</th>\n",
       "      <th>click_hour</th>\n",
       "    </tr>\n",
       "  </thead>\n",
       "  <tbody>\n",
       "    <tr>\n",
       "      <th>0</th>\n",
       "      <td>5744</td>\n",
       "      <td>9</td>\n",
       "      <td>1</td>\n",
       "      <td>3</td>\n",
       "      <td>107</td>\n",
       "      <td>4</td>\n",
       "    </tr>\n",
       "    <tr>\n",
       "      <th>1</th>\n",
       "      <td>119901</td>\n",
       "      <td>9</td>\n",
       "      <td>1</td>\n",
       "      <td>3</td>\n",
       "      <td>466</td>\n",
       "      <td>4</td>\n",
       "    </tr>\n",
       "    <tr>\n",
       "      <th>2</th>\n",
       "      <td>72287</td>\n",
       "      <td>21</td>\n",
       "      <td>1</td>\n",
       "      <td>19</td>\n",
       "      <td>128</td>\n",
       "      <td>4</td>\n",
       "    </tr>\n",
       "    <tr>\n",
       "      <th>3</th>\n",
       "      <td>78477</td>\n",
       "      <td>15</td>\n",
       "      <td>1</td>\n",
       "      <td>13</td>\n",
       "      <td>111</td>\n",
       "      <td>4</td>\n",
       "    </tr>\n",
       "    <tr>\n",
       "      <th>4</th>\n",
       "      <td>123080</td>\n",
       "      <td>12</td>\n",
       "      <td>1</td>\n",
       "      <td>13</td>\n",
       "      <td>328</td>\n",
       "      <td>4</td>\n",
       "    </tr>\n",
       "  </tbody>\n",
       "</table>\n",
       "</div>"
      ],
      "text/plain": [
       "       ip app device  os channel click_hour\n",
       "0    5744   9      1   3     107          4\n",
       "1  119901   9      1   3     466          4\n",
       "2   72287  21      1  19     128          4\n",
       "3   78477  15      1  13     111          4\n",
       "4  123080  12      1  13     328          4"
      ]
     },
     "execution_count": 83,
     "metadata": {},
     "output_type": "execute_result"
    }
   ],
   "source": [
    "X_test.head()"
   ]
  },
  {
   "cell_type": "code",
   "execution_count": 84,
   "metadata": {},
   "outputs": [
    {
     "data": {
      "text/plain": [
       "51"
      ]
     },
     "execution_count": 84,
     "metadata": {},
     "output_type": "execute_result"
    }
   ],
   "source": [
    "gc.collect()"
   ]
  },
  {
   "cell_type": "code",
   "execution_count": 85,
   "metadata": {},
   "outputs": [
    {
     "name": "stdout",
     "output_type": "stream",
     "text": [
      "Start training...\n"
     ]
    }
   ],
   "source": [
    "import lightgbm as lgb\n",
    "\n",
    "\n",
    "# specify your configurations as a dict\n",
    "params = {\n",
    "    'boosting_type': 'gbdt',\n",
    "    'objective': 'binary',\n",
    "    'num_leaves': 31,\n",
    "    'learning_rate': 0.08,\n",
    "    'feature_fraction': 0.9,    \n",
    "    'bagging_fraction': 0.8,\n",
    "    'bagging_freq': 5,\n",
    "    'verbose': 1,\n",
    "    'num_boost_round' : 500,\n",
    "    'early_stopping_rounds' : 30}\n",
    "#    'device' : 'gpu',\n",
    "#    'gpu_platform_id' : 1,\n",
    "#    'gpu_device_id' : 0\n",
    "\n",
    "\n",
    "print('Start training...')\n",
    "# train\n",
    "\n",
    "gbm = lgb.LGBMClassifier(**params)\n"
   ]
  },
  {
   "cell_type": "code",
   "execution_count": 86,
   "metadata": {},
   "outputs": [
    {
     "name": "stderr",
     "output_type": "stream",
     "text": [
      "C:\\Users\\edwin\\Anaconda3\\lib\\site-packages\\lightgbm\\engine.py:99: UserWarning: Found `num_boost_round` in params. Will use it instead of argument\n",
      "  warnings.warn(\"Found `{}` in params. Will use it instead of argument\".format(alias))\n",
      "C:\\Users\\edwin\\Anaconda3\\lib\\site-packages\\lightgbm\\engine.py:104: UserWarning: Found `early_stopping_rounds` in params. Will use it instead of argument\n",
      "  warnings.warn(\"Found `{}` in params. Will use it instead of argument\".format(alias))\n"
     ]
    },
    {
     "name": "stdout",
     "output_type": "stream",
     "text": [
      "[1]\tvalid_0's binary_logloss: 0.617168\n",
      "Training until validation scores don't improve for 30 rounds.\n",
      "[2]\tvalid_0's binary_logloss: 0.552406\n",
      "[3]\tvalid_0's binary_logloss: 0.496389\n",
      "[4]\tvalid_0's binary_logloss: 0.447778\n",
      "[5]\tvalid_0's binary_logloss: 0.405037\n",
      "[6]\tvalid_0's binary_logloss: 0.36728\n",
      "[7]\tvalid_0's binary_logloss: 0.333785\n",
      "[8]\tvalid_0's binary_logloss: 0.303969\n",
      "[9]\tvalid_0's binary_logloss: 0.27738\n",
      "[10]\tvalid_0's binary_logloss: 0.253439\n",
      "[11]\tvalid_0's binary_logloss: 0.231864\n",
      "[12]\tvalid_0's binary_logloss: 0.212399\n",
      "[13]\tvalid_0's binary_logloss: 0.194887\n",
      "[14]\tvalid_0's binary_logloss: 0.178942\n",
      "[15]\tvalid_0's binary_logloss: 0.164487\n",
      "[16]\tvalid_0's binary_logloss: 0.151351\n",
      "[17]\tvalid_0's binary_logloss: 0.139372\n",
      "[18]\tvalid_0's binary_logloss: 0.128456\n",
      "[19]\tvalid_0's binary_logloss: 0.118515\n",
      "[20]\tvalid_0's binary_logloss: 0.10942\n",
      "[21]\tvalid_0's binary_logloss: 0.10111\n",
      "[22]\tvalid_0's binary_logloss: 0.0935811\n",
      "[23]\tvalid_0's binary_logloss: 0.0866174\n",
      "[24]\tvalid_0's binary_logloss: 0.080251\n",
      "[25]\tvalid_0's binary_logloss: 0.0744039\n",
      "[26]\tvalid_0's binary_logloss: 0.0690467\n",
      "[27]\tvalid_0's binary_logloss: 0.0641288\n",
      "[28]\tvalid_0's binary_logloss: 0.0596166\n",
      "[29]\tvalid_0's binary_logloss: 0.0554756\n",
      "[30]\tvalid_0's binary_logloss: 0.0516756\n",
      "[31]\tvalid_0's binary_logloss: 0.0481865\n",
      "[32]\tvalid_0's binary_logloss: 0.0449775\n",
      "[33]\tvalid_0's binary_logloss: 0.0420239\n",
      "[34]\tvalid_0's binary_logloss: 0.0393156\n",
      "[35]\tvalid_0's binary_logloss: 0.0368242\n",
      "[36]\tvalid_0's binary_logloss: 0.0345394\n",
      "[37]\tvalid_0's binary_logloss: 0.032488\n",
      "[38]\tvalid_0's binary_logloss: 0.0305533\n",
      "[39]\tvalid_0's binary_logloss: 0.0287704\n",
      "[40]\tvalid_0's binary_logloss: 0.0271344\n",
      "[41]\tvalid_0's binary_logloss: 0.0256172\n",
      "[42]\tvalid_0's binary_logloss: 0.0242663\n",
      "[43]\tvalid_0's binary_logloss: 0.0229867\n",
      "[44]\tvalid_0's binary_logloss: 0.0218016\n",
      "[45]\tvalid_0's binary_logloss: 0.0207161\n",
      "[46]\tvalid_0's binary_logloss: 0.0197154\n",
      "[47]\tvalid_0's binary_logloss: 0.0187923\n",
      "[48]\tvalid_0's binary_logloss: 0.0179507\n",
      "[49]\tvalid_0's binary_logloss: 0.0171672\n",
      "[50]\tvalid_0's binary_logloss: 0.0164513\n",
      "[51]\tvalid_0's binary_logloss: 0.0157883\n",
      "[52]\tvalid_0's binary_logloss: 0.0151868\n",
      "[53]\tvalid_0's binary_logloss: 0.0146249\n",
      "[54]\tvalid_0's binary_logloss: 0.0141251\n",
      "[55]\tvalid_0's binary_logloss: 0.0136497\n",
      "[56]\tvalid_0's binary_logloss: 0.0132285\n",
      "[57]\tvalid_0's binary_logloss: 0.0128291\n",
      "[58]\tvalid_0's binary_logloss: 0.0124583\n",
      "[59]\tvalid_0's binary_logloss: 0.0121324\n",
      "[60]\tvalid_0's binary_logloss: 0.0118335\n",
      "[61]\tvalid_0's binary_logloss: 0.0115468\n",
      "[62]\tvalid_0's binary_logloss: 0.0112947\n",
      "[63]\tvalid_0's binary_logloss: 0.0110626\n",
      "[64]\tvalid_0's binary_logloss: 0.0108507\n",
      "[65]\tvalid_0's binary_logloss: 0.0106568\n",
      "[66]\tvalid_0's binary_logloss: 0.010468\n",
      "[67]\tvalid_0's binary_logloss: 0.0102936\n",
      "[68]\tvalid_0's binary_logloss: 0.0101346\n",
      "[69]\tvalid_0's binary_logloss: 0.00998819\n",
      "[70]\tvalid_0's binary_logloss: 0.00985492\n",
      "[71]\tvalid_0's binary_logloss: 0.00973455\n",
      "[72]\tvalid_0's binary_logloss: 0.00962395\n",
      "[73]\tvalid_0's binary_logloss: 0.00952144\n",
      "[74]\tvalid_0's binary_logloss: 0.00943061\n",
      "[75]\tvalid_0's binary_logloss: 0.00934958\n",
      "[76]\tvalid_0's binary_logloss: 0.00927643\n",
      "[77]\tvalid_0's binary_logloss: 0.00920772\n",
      "[78]\tvalid_0's binary_logloss: 0.00914135\n",
      "[79]\tvalid_0's binary_logloss: 0.00908312\n",
      "[80]\tvalid_0's binary_logloss: 0.00903202\n",
      "[81]\tvalid_0's binary_logloss: 0.00897541\n",
      "[82]\tvalid_0's binary_logloss: 0.00892635\n",
      "[83]\tvalid_0's binary_logloss: 0.0088831\n",
      "[84]\tvalid_0's binary_logloss: 0.00884539\n",
      "[85]\tvalid_0's binary_logloss: 0.00883032\n",
      "[86]\tvalid_0's binary_logloss: 0.00879526\n",
      "[87]\tvalid_0's binary_logloss: 0.00876173\n",
      "[88]\tvalid_0's binary_logloss: 0.00873952\n",
      "[89]\tvalid_0's binary_logloss: 0.00873233\n",
      "[90]\tvalid_0's binary_logloss: 0.00871033\n",
      "[91]\tvalid_0's binary_logloss: 0.00868843\n",
      "[92]\tvalid_0's binary_logloss: 0.00866409\n",
      "[93]\tvalid_0's binary_logloss: 0.00865787\n",
      "[94]\tvalid_0's binary_logloss: 0.00863568\n",
      "[95]\tvalid_0's binary_logloss: 0.0086204\n",
      "[96]\tvalid_0's binary_logloss: 0.00860987\n",
      "[97]\tvalid_0's binary_logloss: 0.00861513\n",
      "[98]\tvalid_0's binary_logloss: 0.00860512\n",
      "[99]\tvalid_0's binary_logloss: 0.00859545\n",
      "[100]\tvalid_0's binary_logloss: 0.0085858\n",
      "[101]\tvalid_0's binary_logloss: 0.00857431\n",
      "[102]\tvalid_0's binary_logloss: 0.00856038\n",
      "[103]\tvalid_0's binary_logloss: 0.0085547\n",
      "[104]\tvalid_0's binary_logloss: 0.00854449\n",
      "[105]\tvalid_0's binary_logloss: 0.00853465\n",
      "[106]\tvalid_0's binary_logloss: 0.00852805\n",
      "[107]\tvalid_0's binary_logloss: 0.00852071\n",
      "[108]\tvalid_0's binary_logloss: 0.0085136\n",
      "[109]\tvalid_0's binary_logloss: 0.00850737\n",
      "[110]\tvalid_0's binary_logloss: 0.00850137\n",
      "[111]\tvalid_0's binary_logloss: 0.00850561\n",
      "[112]\tvalid_0's binary_logloss: 0.00849587\n",
      "[113]\tvalid_0's binary_logloss: 0.00848801\n",
      "[114]\tvalid_0's binary_logloss: 0.00847961\n",
      "[115]\tvalid_0's binary_logloss: 0.00847345\n",
      "[116]\tvalid_0's binary_logloss: 0.00846903\n",
      "[117]\tvalid_0's binary_logloss: 0.0084661\n",
      "[118]\tvalid_0's binary_logloss: 0.00846177\n",
      "[119]\tvalid_0's binary_logloss: 0.00845783\n",
      "[120]\tvalid_0's binary_logloss: 0.00845618\n",
      "[121]\tvalid_0's binary_logloss: 0.00846636\n",
      "[122]\tvalid_0's binary_logloss: 0.00846244\n",
      "[123]\tvalid_0's binary_logloss: 0.00845765\n",
      "[124]\tvalid_0's binary_logloss: 0.00845486\n",
      "[125]\tvalid_0's binary_logloss: 0.00845777\n",
      "[126]\tvalid_0's binary_logloss: 0.00845524\n",
      "[127]\tvalid_0's binary_logloss: 0.00845156\n",
      "[128]\tvalid_0's binary_logloss: 0.00845037\n",
      "[129]\tvalid_0's binary_logloss: 0.00845017\n",
      "[130]\tvalid_0's binary_logloss: 0.00844896\n",
      "[131]\tvalid_0's binary_logloss: 0.00844447\n",
      "[132]\tvalid_0's binary_logloss: 0.00844225\n",
      "[133]\tvalid_0's binary_logloss: 0.00843978\n",
      "[134]\tvalid_0's binary_logloss: 0.00843792\n",
      "[135]\tvalid_0's binary_logloss: 0.00843666\n",
      "[136]\tvalid_0's binary_logloss: 0.00843543\n",
      "[137]\tvalid_0's binary_logloss: 0.00843484\n",
      "[138]\tvalid_0's binary_logloss: 0.00843353\n",
      "[139]\tvalid_0's binary_logloss: 0.00843233\n",
      "[140]\tvalid_0's binary_logloss: 0.00843143\n",
      "[141]\tvalid_0's binary_logloss: 0.00842999\n",
      "[142]\tvalid_0's binary_logloss: 0.00842898\n",
      "[143]\tvalid_0's binary_logloss: 0.00842784\n",
      "[144]\tvalid_0's binary_logloss: 0.00842606\n",
      "[145]\tvalid_0's binary_logloss: 0.00842569\n",
      "[146]\tvalid_0's binary_logloss: 0.00842434\n",
      "[147]\tvalid_0's binary_logloss: 0.00842296\n",
      "[148]\tvalid_0's binary_logloss: 0.0084219\n",
      "[149]\tvalid_0's binary_logloss: 0.00842077\n",
      "[150]\tvalid_0's binary_logloss: 0.00841934\n",
      "[151]\tvalid_0's binary_logloss: 0.00841778\n",
      "[152]\tvalid_0's binary_logloss: 0.00841642\n",
      "[153]\tvalid_0's binary_logloss: 0.00841459\n",
      "[154]\tvalid_0's binary_logloss: 0.00841343\n",
      "[155]\tvalid_0's binary_logloss: 0.0084127\n",
      "[156]\tvalid_0's binary_logloss: 0.0084115\n",
      "[157]\tvalid_0's binary_logloss: 0.00841051\n",
      "[158]\tvalid_0's binary_logloss: 0.00840916\n",
      "[159]\tvalid_0's binary_logloss: 0.00840798\n",
      "[160]\tvalid_0's binary_logloss: 0.00840804\n",
      "[161]\tvalid_0's binary_logloss: 0.0084068\n",
      "[162]\tvalid_0's binary_logloss: 0.00840552\n",
      "[163]\tvalid_0's binary_logloss: 0.00840455\n",
      "[164]\tvalid_0's binary_logloss: 0.00840278\n",
      "[165]\tvalid_0's binary_logloss: 0.00840191\n",
      "[166]\tvalid_0's binary_logloss: 0.0084009\n",
      "[167]\tvalid_0's binary_logloss: 0.00840028\n",
      "[168]\tvalid_0's binary_logloss: 0.00839986\n",
      "[169]\tvalid_0's binary_logloss: 0.00839975\n",
      "[170]\tvalid_0's binary_logloss: 0.00839979\n",
      "[171]\tvalid_0's binary_logloss: 0.00839877\n",
      "[172]\tvalid_0's binary_logloss: 0.00839798\n",
      "[173]\tvalid_0's binary_logloss: 0.00839692\n",
      "[174]\tvalid_0's binary_logloss: 0.00839619\n",
      "[175]\tvalid_0's binary_logloss: 0.00839537\n",
      "[176]\tvalid_0's binary_logloss: 0.00839358\n",
      "[177]\tvalid_0's binary_logloss: 0.00839486\n",
      "[178]\tvalid_0's binary_logloss: 0.00839259\n",
      "[179]\tvalid_0's binary_logloss: 0.00839174\n",
      "[180]\tvalid_0's binary_logloss: 0.00839103\n",
      "[181]\tvalid_0's binary_logloss: 0.00839026\n",
      "[182]\tvalid_0's binary_logloss: 0.00838913\n",
      "[183]\tvalid_0's binary_logloss: 0.00839909\n",
      "[184]\tvalid_0's binary_logloss: 0.00839915\n",
      "[185]\tvalid_0's binary_logloss: 0.00840059\n",
      "[186]\tvalid_0's binary_logloss: 0.00839997\n",
      "[187]\tvalid_0's binary_logloss: 0.00839925\n",
      "[188]\tvalid_0's binary_logloss: 0.00839857\n",
      "[189]\tvalid_0's binary_logloss: 0.00839789\n",
      "[190]\tvalid_0's binary_logloss: 0.00839859\n",
      "[191]\tvalid_0's binary_logloss: 0.00839751\n",
      "[192]\tvalid_0's binary_logloss: 0.0083968\n",
      "[193]\tvalid_0's binary_logloss: 0.00839687\n",
      "[194]\tvalid_0's binary_logloss: 0.00839671\n",
      "[195]\tvalid_0's binary_logloss: 0.00839616\n",
      "[196]\tvalid_0's binary_logloss: 0.00839481\n",
      "[197]\tvalid_0's binary_logloss: 0.00839361\n",
      "[198]\tvalid_0's binary_logloss: 0.00839291\n",
      "[199]\tvalid_0's binary_logloss: 0.00839237\n",
      "[200]\tvalid_0's binary_logloss: 0.00839584\n",
      "[201]\tvalid_0's binary_logloss: 0.00839503\n",
      "[202]\tvalid_0's binary_logloss: 0.00839457\n",
      "[203]\tvalid_0's binary_logloss: 0.00839337\n",
      "[204]\tvalid_0's binary_logloss: 0.00839221\n",
      "[205]\tvalid_0's binary_logloss: 0.00839184\n",
      "[206]\tvalid_0's binary_logloss: 0.00839151\n",
      "[207]\tvalid_0's binary_logloss: 0.00839026\n",
      "[208]\tvalid_0's binary_logloss: 0.00839029\n",
      "[209]\tvalid_0's binary_logloss: 0.00839278\n",
      "[210]\tvalid_0's binary_logloss: 0.00839262\n",
      "[211]\tvalid_0's binary_logloss: 0.00839154\n",
      "[212]\tvalid_0's binary_logloss: 0.00839036\n",
      "Early stopping, best iteration is:\n",
      "[182]\tvalid_0's binary_logloss: 0.00838913\n"
     ]
    },
    {
     "data": {
      "text/plain": [
       "LGBMClassifier(bagging_fraction=0.8, bagging_freq=5, boosting_type='gbdt',\n",
       "        class_weight=None, colsample_bytree=1.0, early_stopping_rounds=30,\n",
       "        feature_fraction=0.9, learning_rate=0.08, max_depth=-1,\n",
       "        min_child_samples=20, min_child_weight=0.001, min_split_gain=0.0,\n",
       "        n_estimators=100, n_jobs=-1, num_boost_round=500, num_leaves=31,\n",
       "        objective='binary', random_state=None, reg_alpha=0.0,\n",
       "        reg_lambda=0.0, silent=True, subsample=1.0,\n",
       "        subsample_for_bin=200000, subsample_freq=1, verbose=1)"
      ]
     },
     "execution_count": 86,
     "metadata": {},
     "output_type": "execute_result"
    }
   ],
   "source": [
    "gbm.fit(X_train, y_train, eval_set=[(X_test1, y_test1)], eval_metric= 'binary_logloss')"
   ]
  },
  {
   "cell_type": "code",
   "execution_count": 87,
   "metadata": {},
   "outputs": [
    {
     "name": "stdout",
     "output_type": "stream",
     "text": [
      "Save model...\n"
     ]
    }
   ],
   "source": [
    "print('Save model...')\n",
    "# save model to file\n",
    "gbm.booster_.save_model('LightGBMmodel_2.txt')\n"
   ]
  },
  {
   "cell_type": "code",
   "execution_count": 88,
   "metadata": {},
   "outputs": [],
   "source": [
    "#gbm = lgb.Booster(model_file='LightGBMmodel.txt')\n"
   ]
  },
  {
   "cell_type": "code",
   "execution_count": 89,
   "metadata": {},
   "outputs": [
    {
     "name": "stdout",
     "output_type": "stream",
     "text": [
      "Start predicting...\n"
     ]
    }
   ],
   "source": [
    "\n",
    "print('Start predicting...')\n",
    "# predict\n",
    "y_pred = gbm.predict_proba(X_test, gbm.best_iteration_)\n",
    "# eval\n",
    "#print('The rmse of prediction is:', mean_squared_error(y_test1, y_pred) ** 0.5)\n"
   ]
  },
  {
   "cell_type": "code",
   "execution_count": 90,
   "metadata": {},
   "outputs": [
    {
     "data": {
      "text/plain": [
       "321"
      ]
     },
     "execution_count": 90,
     "metadata": {},
     "output_type": "execute_result"
    }
   ],
   "source": [
    "gc.collect()"
   ]
  },
  {
   "cell_type": "code",
   "execution_count": 91,
   "metadata": {},
   "outputs": [
    {
     "data": {
      "text/plain": [
       "(18790469, 2)"
      ]
     },
     "execution_count": 91,
     "metadata": {},
     "output_type": "execute_result"
    }
   ],
   "source": [
    "y_pred.shape"
   ]
  },
  {
   "cell_type": "code",
   "execution_count": 92,
   "metadata": {},
   "outputs": [
    {
     "data": {
      "text/plain": [
       "array([1.01486897e-03, 7.08838283e-04, 1.36849232e-04, ...,\n",
       "       3.31146191e-04, 9.82210491e-04, 8.72329055e-05])"
      ]
     },
     "execution_count": 92,
     "metadata": {},
     "output_type": "execute_result"
    }
   ],
   "source": [
    "y_pred[:,1]"
   ]
  },
  {
   "cell_type": "code",
   "execution_count": 93,
   "metadata": {
    "_uuid": "bcd420d06c35e87cae0d68276e30932ec4ae58c2",
    "collapsed": true
   },
   "outputs": [],
   "source": [
    "output = pd.DataFrame(test['click_id'])\n",
    "output['is_attributed'] = y_pred[:,1]"
   ]
  },
  {
   "cell_type": "code",
   "execution_count": 94,
   "metadata": {},
   "outputs": [
    {
     "data": {
      "text/html": [
       "<div>\n",
       "<style scoped>\n",
       "    .dataframe tbody tr th:only-of-type {\n",
       "        vertical-align: middle;\n",
       "    }\n",
       "\n",
       "    .dataframe tbody tr th {\n",
       "        vertical-align: top;\n",
       "    }\n",
       "\n",
       "    .dataframe thead th {\n",
       "        text-align: right;\n",
       "    }\n",
       "</style>\n",
       "<table border=\"1\" class=\"dataframe\">\n",
       "  <thead>\n",
       "    <tr style=\"text-align: right;\">\n",
       "      <th></th>\n",
       "      <th>click_id</th>\n",
       "      <th>is_attributed</th>\n",
       "    </tr>\n",
       "  </thead>\n",
       "  <tbody>\n",
       "    <tr>\n",
       "      <th>0</th>\n",
       "      <td>0</td>\n",
       "      <td>0.001015</td>\n",
       "    </tr>\n",
       "    <tr>\n",
       "      <th>1</th>\n",
       "      <td>1</td>\n",
       "      <td>0.000709</td>\n",
       "    </tr>\n",
       "    <tr>\n",
       "      <th>2</th>\n",
       "      <td>2</td>\n",
       "      <td>0.000137</td>\n",
       "    </tr>\n",
       "    <tr>\n",
       "      <th>3</th>\n",
       "      <td>3</td>\n",
       "      <td>0.000356</td>\n",
       "    </tr>\n",
       "    <tr>\n",
       "      <th>4</th>\n",
       "      <td>4</td>\n",
       "      <td>0.000149</td>\n",
       "    </tr>\n",
       "  </tbody>\n",
       "</table>\n",
       "</div>"
      ],
      "text/plain": [
       "   click_id  is_attributed\n",
       "0         0       0.001015\n",
       "1         1       0.000709\n",
       "2         2       0.000137\n",
       "3         3       0.000356\n",
       "4         4       0.000149"
      ]
     },
     "execution_count": 94,
     "metadata": {},
     "output_type": "execute_result"
    }
   ],
   "source": [
    "output.head()"
   ]
  },
  {
   "cell_type": "code",
   "execution_count": 95,
   "metadata": {},
   "outputs": [],
   "source": [
    "output.to_csv(\"submission_LightGBM_2.csv\",index=False)"
   ]
  }
 ],
 "metadata": {
  "kernelspec": {
   "display_name": "Python 3",
   "language": "python",
   "name": "python3"
  },
  "language_info": {
   "codemirror_mode": {
    "name": "ipython",
    "version": 3
   },
   "file_extension": ".py",
   "mimetype": "text/x-python",
   "name": "python",
   "nbconvert_exporter": "python",
   "pygments_lexer": "ipython3",
   "version": "3.6.4"
  }
 },
 "nbformat": 4,
 "nbformat_minor": 2
}
